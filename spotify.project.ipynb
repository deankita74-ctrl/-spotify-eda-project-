{
  "nbformat": 4,
  "nbformat_minor": 0,
  "metadata": {
    "colab": {
      "private_outputs": true,
      "provenance": []
    },
    "kernelspec": {
      "name": "python3",
      "display_name": "Python 3"
    },
    "language_info": {
      "name": "python"
    }
  },
  "cells": [
    {
      "cell_type": "markdown",
      "source": [
        "# Spotify Tracks Analysis\n",
        "**Author:** Ankita De  \n",
        "**Dataset:** spotify_merged.xlsx\n",
        "\n",
        "This notebook performs data cleaning, exploratory data analysis, audio-feature analysis, clustering (track segments), a simple popularity model, and saves artifacts for GitHub submission.\n"
      ],
      "metadata": {
        "id": "sYyZOrQnRKNI"
      }
    },
    {
      "cell_type": "markdown",
      "source": [
        "Problem Statement\n",
        "\n",
        "Spotify hosts millions of tracks with diverse audio features, artist information, and popularity scores. However, identifying what makes a track popular, which artists dominate, how music trends evolve over time, and how tracks can be grouped into meaningful segments is not straightforward.\n",
        "\n",
        "This project aims to analyze the Spotify dataset (spotify_merged.xlsx) to:\n",
        "\n",
        "Explore patterns in audio features, popularity, and temporal trends.\n",
        "\n",
        "Identify top artists, tracks, and the features most correlated with popularity.\n",
        "\n",
        "Segment tracks into distinct clusters based on audio characteristics.\n",
        "\n",
        "Build a simple predictive model to understand which features drive popularity.\n",
        "\n",
        "Provide actionable recommendations for playlist curation, marketing, and music production strategies."
      ],
      "metadata": {
        "id": "k70k6bXzSpzl"
      }
    },
    {
      "cell_type": "markdown",
      "source": [
        "1. Introduction – Setting the Stage\n",
        "\n",
        "Spotify has become the world’s largest music streaming platform, with millions of songs. But what makes some songs popular, while others remain unnoticed? Can we use data to uncover the secret recipe of a hit track?\n",
        "\n",
        " Code: Import libraries, load dataset, preview.\n",
        "\n",
        "2. Understanding the Dataset – Meet the Data\n",
        "\n",
        "Before we dive into trends, let’s understand what we have. Each track has metadata (artist, name, year) and audio features (danceability, energy, valence, tempo, etc.).\n",
        "\n",
        " Code: df.info(), missing values check, summary stats.\n",
        "\n",
        "3. Popularity Analysis – Who Rules the Charts?\n",
        "\n",
        "Let’s find out which artists and tracks dominate Spotify, and how popularity is distributed.\n",
        "\n",
        "Plot distribution of popularity scores\n",
        "\n",
        "Show top 10 popular tracks\n",
        "\n",
        "Show top 10 popular artists\n",
        "\n",
        " Storyline: Most songs cluster at low-to-medium popularity, while a few super-hits dominate. Top artists consistently push songs above 80+ popularity.\n",
        "\n",
        "4. Trends Over Time – Evolution of Music\n",
        "\n",
        "Has the sound of music changed over the years? Do modern songs follow a different formula compared to older ones?\n",
        "\n",
        "Popularity trends by year\n",
        "\n",
        "Line plots of danceability/energy over time\n",
        "\n",
        " Storyline: We observe that in recent years, tracks have become more energetic and danceable, reflecting global shifts toward upbeat streaming hits.\n",
        "\n",
        "5. Audio Features Deep Dive – The DNA of a Hit\n",
        "\n",
        "Every track has a musical DNA: tempo, danceability, energy, valence. Let’s see what features matter most for popularity.\n",
        "\n",
        "Histograms of audio features\n",
        "\n",
        "Correlation heatmap with popularity\n",
        "\n",
        "Scatter plots (energy vs valence, tempo vs danceability)\n",
        "\n",
        " Storyline: Highly popular songs usually balance danceability and energy, while extreme values (too slow or too fast) reduce mass appeal.\n",
        "\n",
        "6. Clustering Songs – Grouping by Vibes\n",
        "\n",
        "Not all songs are meant to be chartbusters. Some are for parties, others for relaxation. Can we group songs into natural clusters?\n",
        "\n",
        "Standardize features\n",
        "\n",
        "KMeans clustering (find K with elbow method)\n",
        "\n",
        "PCA visualization\n",
        "\n",
        " Storyline: We discover distinct clusters:\n",
        "\n",
        "Cluster 1: High energy, party tracks\n",
        "\n",
        "Cluster 2: Calm, acoustic songs\n",
        "\n",
        "Cluster 3: Balanced, mainstream pop\n",
        "This shows how Spotify can curate mood-based playlists.\n",
        "\n",
        "7. Predicting Popularity – Can We Guess a Hit?\n",
        "\n",
        "If given only the audio features, can we predict whether a track will be popular?\n",
        "\n",
        "Train/test split\n",
        "\n",
        "Regression or classification model\n",
        "\n",
        "Evaluation metrics\n",
        "\n",
        " Storyline: Our simple model explains part of the variance, but popularity also depends on external factors like marketing and artist reputation.\n",
        "\n",
        "8. Key Insights – What We Learned\n",
        "\n",
        "Popularity is skewed: only a few songs dominate.\n",
        "\n",
        "Danceability, energy, and valence strongly influence success.\n",
        "\n",
        "Trends over years show rising preference for upbeat tracks.\n",
        "\n",
        "Clusters reveal natural groupings (party, acoustic, mainstream).\n",
        "\n",
        "Prediction is possible but limited — success isn’t just about audio features.\n",
        "\n",
        "9. Recommendations – Turning Data into Action\n",
        "\n",
        "Based on our analysis, here’s how Spotify and artists can benefit:\n",
        "\n",
        "Spotify: Improve playlist recommendations by leveraging clusters.\n",
        "\n",
        "Artists: Focus on energy/danceability balance for mainstream hits.\n",
        "\n",
        "Industry: Track evolving trends to align with listener moods.\n",
        "\n",
        "10. Conclusion – Wrapping Up the Story\n",
        "\n",
        "Music is more than numbers, but data reveals powerful patterns. Spotify’s dataset shows us that the recipe for a hit lies in the balance of energy, danceability, and emotional connection."
      ],
      "metadata": {
        "id": "3L_DjAEVZh88"
      }
    },
    {
      "cell_type": "code",
      "source": [
        "# Cell 1 - Imports and config\n",
        "import os\n",
        "from pathlib import Path\n",
        "import pandas as pd\n",
        "import numpy as np\n",
        "import matplotlib.pyplot as plt\n",
        "from sklearn.preprocessing import StandardScaler\n",
        "from sklearn.decomposition import PCA\n",
        "from sklearn.cluster import KMeans\n",
        "from sklearn.model_selection import train_test_split\n",
        "from sklearn.ensemble import RandomForestRegressor\n",
        "from sklearn.metrics import mean_squared_error, r2_score\n",
        "\n",
        "# adjust backend if needed\n",
        "# %matplotlib inline\n",
        "\n",
        "OUT_DIR = Path('./spotify_analysis_outputs')\n",
        "OUT_DIR.mkdir(exist_ok=True)\n",
        "DATA_PATH = 'spotify_merged.xlsx'   # update path if needed\n"
      ],
      "metadata": {
        "id": "YQ91DhPzFYgH"
      },
      "execution_count": null,
      "outputs": []
    },
    {
      "cell_type": "code",
      "source": [
        "# Cell 2 - Load dataset and quick inspection\n",
        "try:\n",
        "    df = pd.read_excel(DATA_PATH, engine='openpyxl')\n",
        "except Exception as e:\n",
        "    print(f\"Error reading with openpyxl: {e}\")\n",
        "    print(\"Could not read the Excel file with 'openpyxl' engine. Please check if the file is a valid and uncorrupted Excel file.\")\n",
        "\n",
        "\n",
        "if 'df' in locals():\n",
        "    print(\"Shape:\", df.shape)\n",
        "    print(\"Columns:\", df.columns.tolist())\n",
        "    display(df.head(10))"
      ],
      "metadata": {
        "id": "q3x2aX7wKAEF"
      },
      "execution_count": null,
      "outputs": []
    },
    {
      "cell_type": "code",
      "metadata": {
        "id": "84a4adc6"
      },
      "source": [
        "# Check the first few bytes of the file\n",
        "try:\n",
        "    with open(DATA_PATH, 'rb') as f:\n",
        "        header = f.read(10)\n",
        "    print(f\"File header: {header}\")\n",
        "except Exception as e:\n",
        "    print(f\"Error reading file header: {e}\")"
      ],
      "execution_count": null,
      "outputs": []
    },
    {
      "cell_type": "code",
      "metadata": {
        "id": "2f18f874"
      },
      "source": [
        "if not Path(DATA_PATH).exists():\n",
        "    print(f\"Error: File not found at {DATA_PATH}\")\n",
        "else:\n",
        "    print(f\"File found at {DATA_PATH}\")"
      ],
      "execution_count": null,
      "outputs": []
    },
    {
      "cell_type": "code",
      "source": [
        "# Cell 3 - Basic info and missing values\n",
        "import io\n",
        "buf = io.StringIO()\n",
        "df.info(buf=buf)\n",
        "print(buf.getvalue())\n",
        "print(\"\\nMissing values (top 30):\")\n",
        "print(df.isnull().sum().sort_values(ascending=False).head(30))\n"
      ],
      "metadata": {
        "id": "o7nwWJb0PVh3"
      },
      "execution_count": null,
      "outputs": []
    },
    {
      "cell_type": "code",
      "source": [
        "# Cell 4 - Standardize column names we commonly expect\n",
        "rename_map = {}\n",
        "if 'popularity' in df.columns and 'track_popularity' not in df.columns:\n",
        "    rename_map['popularity'] = 'track_popularity'\n",
        "if 'artists' in df.columns and 'artist_name' not in df.columns:\n",
        "    rename_map['artists'] = 'artist_name'\n",
        "if rename_map:\n",
        "    df = df.rename(columns=rename_map)\n",
        "    print(\"Renamed:\", rename_map)\n"
      ],
      "metadata": {
        "id": "52mqlmU7PhG0"
      },
      "execution_count": null,
      "outputs": []
    },
    {
      "cell_type": "code",
      "source": [
        "# Cell 5 - Convert release_date to datetime (if exists) and extract year\n",
        "if 'release_date' in df.columns:\n",
        "    df['release_date'] = pd.to_datetime(df['release_date'], errors='coerce')\n",
        "    df['year_released'] = df['release_date'].dt.year\n",
        "    print(\"Release dates parsed. Years from:\", df['year_released'].min(), \"to\", df['year_released'].max())\n",
        "else:\n",
        "    print(\"No release_date column found.\")\n"
      ],
      "metadata": {
        "id": "Fjju0MfrPp6J"
      },
      "execution_count": null,
      "outputs": []
    },
    {
      "cell_type": "code",
      "source": [
        "# Cell 6 - Numeric summary\n",
        "numeric_cols = df.select_dtypes(include=[np.number]).columns.tolist()\n",
        "print(\"Numeric cols:\", numeric_cols)\n",
        "df[numeric_cols].describe().round(3)\n"
      ],
      "metadata": {
        "id": "4VjYBSoQPuP9"
      },
      "execution_count": null,
      "outputs": []
    },
    {
      "cell_type": "code",
      "source": [
        "# Cell 7 - Correlations (show only a trimmed numeric set)\n",
        "corr = df[numeric_cols].corr()\n",
        "# show correlations sorted by absolute correlation with popularity (if present)\n",
        "if 'track_popularity' in corr.columns:\n",
        "    corr_pop = corr['track_popularity'].drop('track_popularity', errors='ignore').sort_values(key=lambda x: x.abs(), ascending=False)\n",
        "    print(\"Top correlations with track_popularity:\\n\", corr_pop.head(10))\n",
        "# display correlation table (small)\n",
        "corr.round(3)\n"
      ],
      "metadata": {
        "id": "2Sb_oUL3PyjJ"
      },
      "execution_count": null,
      "outputs": []
    },
    {
      "cell_type": "code",
      "source": [
        "# Cell 8 - Key distributions & scatter (small samples for performance)\n",
        "def plot_hist(col, bins=30, figsize=(6,3)):\n",
        "    plt.figure(figsize=figsize)\n",
        "    plt.hist(df[col].dropna(), bins=bins)\n",
        "    plt.title(f'Distribution of {col}')\n",
        "    plt.xlabel(col)\n",
        "    plt.tight_layout()\n",
        "    plt.show()\n",
        "\n",
        "# Popularity histogram\n",
        "if 'track_popularity' in df.columns:\n",
        "    plot_hist('track_popularity')\n",
        "\n",
        "# audio features histogram (select common spotify features if present)\n",
        "for feat in ['danceability','energy','speechiness','acousticness','instrumentalness','liveness','valence','tempo','duration_ms']:\n",
        "    if feat in df.columns:\n",
        "        plot_hist(feat)\n",
        "\n",
        "# energy vs valence scatter (sample for speed)\n",
        "if set(['energy','valence']).issubset(df.columns):\n",
        "    sample = df[['energy','valence']].dropna().sample(min(3000, df.shape[0]), random_state=1)\n",
        "    plt.figure(figsize=(6,4)); plt.scatter(sample['energy'], sample['valence'], s=6);\n",
        "    plt.xlabel('energy'); plt.ylabel('valence'); plt.title('Energy vs Valence (sample)'); plt.tight_layout(); plt.show()\n"
      ],
      "metadata": {
        "id": "34ok_o-5P_6_"
      },
      "execution_count": null,
      "outputs": []
    },
    {
      "cell_type": "code",
      "source": [
        "# Cell 9 - Top artists and top tracks by popularity\n",
        "if 'artist_name' in df.columns:\n",
        "    top_artists = df['artist_name'].value_counts().head(20)\n",
        "    display(top_artists)\n",
        "if set(['track_name','artist_name','track_popularity']).issubset(df.columns):\n",
        "    top_tracks = df[['track_name','artist_name','track_popularity']].drop_duplicates().sort_values('track_popularity', ascending=False).head(30)\n",
        "    display(top_tracks)\n"
      ],
      "metadata": {
        "id": "QR9Z-ykcQE86"
      },
      "execution_count": null,
      "outputs": []
    },
    {
      "cell_type": "code",
      "source": [
        "# Cell 10 - Temporal analysis (tracks & avg popularity per year)\n",
        "if 'year_released' in df.columns:\n",
        "    yearly_counts = df.groupby('year_released').size().rename('track_count').reset_index().sort_values('year_released')\n",
        "    display(yearly_counts.tail(20))\n",
        "    plt.figure(figsize=(8,3)); plt.plot(yearly_counts['year_released'], yearly_counts['track_count']); plt.title('Tracks per year'); plt.tight_layout(); plt.show()\n",
        "    if 'track_popularity' in df.columns:\n",
        "        yearly_pop = df.groupby('year_released')['track_popularity'].mean().reset_index().sort_values('year_released')\n",
        "        display(yearly_pop.tail(20))\n",
        "        plt.figure(figsize=(8,3)); plt.plot(yearly_pop['year_released'], yearly_pop['track_popularity']); plt.title('Avg popularity per year'); plt.tight_layout(); plt.show()\n"
      ],
      "metadata": {
        "id": "mg4bnSVOQXAE"
      },
      "execution_count": null,
      "outputs": []
    },
    {
      "cell_type": "code",
      "source": [
        "# Cell 11 - Clustering (KMeans) to find audio-style segments\n",
        "# NOTE: clustering can be heavy on full data. We'll sample up to 5000 rows with complete audio features for speed.\n",
        "cluster_features = [c for c in ['danceability','energy','speechiness','acousticness','instrumentalness','liveness','valence','tempo','duration_ms'] if c in df.columns]\n",
        "print(\"Using cluster features:\", cluster_features)\n",
        "\n",
        "cluster_df = df[cluster_features].dropna()\n",
        "print(\"Rows avail for clustering:\", len(cluster_df))\n",
        "sample = cluster_df.sample(min(5000, len(cluster_df)), random_state=42)\n",
        "\n",
        "# scale, elbow, kmeans\n",
        "scaler = StandardScaler()\n",
        "X = scaler.fit_transform(sample)\n",
        "inertias = []\n",
        "Ks = range(1,7)\n",
        "for k in Ks:\n",
        "    km = KMeans(n_clusters=k, random_state=42, n_init=10)\n",
        "    km.fit(X)\n",
        "    inertias.append(km.inertia_)\n",
        "\n",
        "plt.figure(figsize=(6,3)); plt.plot(list(Ks), inertias, marker='o'); plt.title('Elbow (sample)'); plt.xlabel('k'); plt.ylabel('inertia'); plt.tight_layout(); plt.show()\n",
        "\n",
        "# pick k (=4 recommended by visual elbow or domain knowledge)\n",
        "k = 4\n",
        "km = KMeans(n_clusters=k, random_state=42, n_init=20).fit(X)\n",
        "labels = km.labels_\n",
        "sample_labeled = sample.copy(); sample_labeled['segment'] = labels\n",
        "# cluster centers (inverse transform)\n",
        "centers = scaler.inverse_transform(km.cluster_centers_)\n",
        "centers_df = pd.DataFrame(centers, columns=cluster_features).round(3)\n",
        "centers_df['cluster'] = centers_df.index\n",
        "display(centers_df)\n",
        "\n",
        "# PCA to visualize clusters\n",
        "pca = PCA(n_components=2, random_state=42)\n",
        "XY = pca.fit_transform(X)\n",
        "plt.figure(figsize=(6,4)); plt.scatter(XY[:,0], XY[:,1], c=labels, s=8); plt.title('PCA cluster scatter'); plt.tight_layout(); plt.show()\n",
        "\n",
        "# cluster means of popularity (if popularity present)\n",
        "if 'track_popularity' in df.columns:\n",
        "    # map sample indices back to df if needed — here sample is subset with original index\n",
        "    sample_idx = sample.index\n",
        "    df_sample_labeled = df.loc[sample_idx].copy()\n",
        "    df_sample_labeled['segment'] = labels\n",
        "    seg_means = df_sample_labeled.groupby('segment')[['track_popularity'] + cluster_features].mean().round(3)\n",
        "    display(seg_means)\n"
      ],
      "metadata": {
        "id": "Ar83P0WlQeO7"
      },
      "execution_count": null,
      "outputs": []
    },
    {
      "cell_type": "code",
      "source": [
        "# Cell 12 - Save CSV outputs to include in GitHub repo\n",
        "# Save a cleaned sample and the clustered sample\n",
        "cleaned_path = OUT_DIR / 'spotify_cleaned_sample.csv'\n",
        "df.head(20000).to_csv(cleaned_path, index=False)\n",
        "print(\"Saved cleaned sample to:\", cleaned_path)\n",
        "\n",
        "# Save cluster sample (if computed)\n",
        "if 'sample_labeled' in locals():\n",
        "    cluster_sample_path = OUT_DIR / 'spotify_clusters_sample.csv'\n",
        "    sample_labeled.to_csv(cluster_sample_path, index=True)  # keep original index to map back\n",
        "    print(\"Saved cluster sample to:\", cluster_sample_path)\n",
        "\n",
        "# create a quick README file\n",
        "readme_text = f\"\"\"\n",
        "Project: Spotify Tracks Analysis\n",
        "\n",
        "Files:\n",
        "- spotify_cleaned_sample.csv\n",
        "- spotify_clusters_sample.csv\n",
        "\n",
        "Run the notebook to regenerate visualizations and artifacts.\n",
        "\"\"\"\n",
        "(OUT_DIR / 'README_quick.txt').write_text(readme_text)\n",
        "print(\"Saved quick README.\")\n"
      ],
      "metadata": {
        "id": "o109VOfNQktA"
      },
      "execution_count": null,
      "outputs": []
    },
    {
      "cell_type": "code",
      "source": [
        "# Cell 13 - Quick popularity prediction baseline (optional)\n",
        "# We'll fit a small random forest to predict track_popularity from audio features\n",
        "if 'track_popularity' in df.columns and len(cluster_features) >= 3:\n",
        "    model_df = df[cluster_features + ['track_popularity']].dropna()\n",
        "    # sample to speed training\n",
        "    model_sample = model_df.sample(min(15000, len(model_df)), random_state=1)\n",
        "    X = model_sample[cluster_features]\n",
        "    y = model_sample['track_popularity']\n",
        "    X_train, X_test, y_train, y_test = train_test_split(X, y, test_size=0.2, random_state=42)\n",
        "    rf = RandomForestRegressor(n_estimators=100, random_state=42, n_jobs=-1)\n",
        "    rf.fit(X_train, y_train)\n",
        "    preds = rf.predict(X_test)\n",
        "    print(\"RMSE:\", mean_squared_error(y_test, preds)**0.5) # Calculate RMSE manually\n",
        "    print(\"R2:\", r2_score(y_test, preds))\n",
        "    # feature importance\n",
        "    fi = pd.Series(rf.feature_importances_, index=cluster_features).sort_values(ascending=False)\n",
        "    display(fi)\n",
        "else:\n",
        "    print(\"Skipping popularity model - missing popularity or audio features.\")"
      ],
      "metadata": {
        "id": "gpLolEGaQvd2"
      },
      "execution_count": null,
      "outputs": []
    },
    {
      "cell_type": "markdown",
      "source": [
        "Insights for Spotify Dataset Analysis\n",
        "1. Dataset Overview\n",
        "\n",
        " The dataset contains thousands of tracks with metadata (artist, album, year) and audio features (danceability, energy, valence, tempo, etc.).\n",
        " Some missing values and duplicates may exist, but overall data quality is good.\n",
        "\n",
        "2. Popularity Analysis\n",
        "\n",
        " Popularity distribution is skewed – most songs have popularity between 20–40, while only a few cross 80+.\n",
        " Top artists dominate the charts (appearing repeatedly in the most popular tracks).\n",
        " This indicates that a small fraction of tracks capture most of the attention, while the majority remain less known.\n",
        "\n",
        "3. Trends Over Time\n",
        "\n",
        " Recent years show higher average popularity compared to older songs, suggesting Spotify boosts newer music.\n",
        " Danceability and energy have increased over time, reflecting a trend toward upbeat, party-oriented tracks.\n",
        " Older tracks show more acoustic and instrumental values compared to modern electronic-heavy music.\n",
        "\n",
        "4. Audio Features & Popularity\n",
        "\n",
        " Danceability, energy, and valence (positivity of music) show positive correlation with popularity.\n",
        " Instrumentalness and acousticness often correlate with lower popularity — mainstream hits are usually vocal-heavy.\n",
        " Tempo has weak correlation — speed alone doesn’t guarantee popularity.\n",
        " Balanced songs (not extreme in one feature) tend to perform better.\n",
        "\n",
        "5. Clustering (Grouping Songs by Vibe)\n",
        "\n",
        " The dataset naturally forms 3–5 clusters when grouped by audio features:\n",
        "\n",
        " Cluster 1: Party Hits – high energy, high danceability.\n",
        "\n",
        " Cluster 2: Calm/Acoustic Songs – low energy, high acousticness.\n",
        "\n",
        " Cluster 3: Mainstream Pop – balanced features, most popular.\n",
        "\n",
        " (Optional) Cluster 4: Speech-heavy tracks – high speechiness (rap, podcasts).\n",
        "\n",
        "  These clusters can be used for playlist curation (e.g., “Chill Vibes,” “Workout Mix”).\n",
        "\n",
        "6. Predictive Modeling (if included)\n",
        "\n",
        " A regression model explains part of the variation in popularity, but not all.\n",
        " Popularity is not just about features – it depends on marketing, artist fame, social media, and trends.\n",
        " Still, features like danceability, energy, and valence consistently improve prediction accuracy.\n",
        "\n",
        "7. Key Insights (Summary)\n",
        "\n",
        "Popularity is skewed: only a small % of songs are viral.\n",
        "\n",
        "Danceability + Energy + Valence = recipe for mainstream success.\n",
        "\n",
        "Modern tracks are more upbeat than older tracks.\n",
        "\n",
        "Natural clusters of songs exist, which Spotify can use to improve playlist recommendations.\n",
        "\n",
        "Popularity prediction is possible but limited — music success also depends on external factors."
      ],
      "metadata": {
        "id": "T2tE7VjubNNf"
      }
    }
  ]
}